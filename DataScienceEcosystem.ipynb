{
 "cells": [
  {
   "cell_type": "markdown",
   "id": "2c2abb35-c0c6-4b61-81cc-2ade0491fa0b",
   "metadata": {},
   "source": [
    "# Data Science Tools and Ecosystem"
   ]
  },
  {
   "cell_type": "markdown",
   "id": "87f6c195-c3eb-457e-989c-6b8c67edd1a2",
   "metadata": {},
   "source": [
    "In this notebook, Data Science Tools and Ecosystem are summarized."
   ]
  },
  {
   "cell_type": "markdown",
   "id": "afcf1107-6f2b-4193-aa02-49cb20403a5b",
   "metadata": {},
   "source": [
    "**Objectives:**\n",
    "- Data science languages\n",
    "- Data science libraries\n",
    "- Data Science tools"
   ]
  },
  {
   "cell_type": "markdown",
   "id": "3431ec25-03fb-4e7a-bf03-2020b467d2a7",
   "metadata": {},
   "source": [
    "Some of the popular languages that Data Scientists use are:\n",
    "1. Python\n",
    "2. SQL\n",
    "3. R"
   ]
  },
  {
   "cell_type": "markdown",
   "id": "f6006a47-7fcf-40e4-8dcc-584e18de63d0",
   "metadata": {},
   "source": [
    "Some of the commonly used libraries used by Data Scientists include:\n",
    "1. Pandas\n",
    "2. Numpy\n",
    "3. Ggplot"
   ]
  },
  {
   "cell_type": "markdown",
   "id": "8565a614-ac2b-4012-b668-2499b60d5ebf",
   "metadata": {},
   "source": [
    "| Data Science Tools |\n",
    "| ------------------ |\n",
    "| Jupyter Notebook |\n",
    "| R Studio |\n",
    "| Matlab |"
   ]
  },
  {
   "cell_type": "markdown",
   "id": "6f4ff4ac-7cda-4318-8747-ccd9f314a91b",
   "metadata": {},
   "source": [
    "### Below are a few examples of evaluating arithmetic expressions in Python"
   ]
  },
  {
   "cell_type": "markdown",
   "id": "25e2e844-742d-4a39-a156-0f51f717fcd1",
   "metadata": {},
   "source": [
    "# This is a simple arithmetic expression to multiply then add integers\n",
    "(3*4)+5"
   ]
  },
  {
   "cell_type": "code",
   "execution_count": 3,
   "id": "2b1c47c6-afa4-4fc1-bdf6-1326ef49e50d",
   "metadata": {},
   "outputs": [
    {
     "data": {
      "text/plain": [
       "3.3333333333333335"
      ]
     },
     "execution_count": 3,
     "metadata": {},
     "output_type": "execute_result"
    }
   ],
   "source": [
    "# This will convert 200 minutes to hours by diving by 60\n",
    "200/60"
   ]
  },
  {
   "cell_type": "markdown",
   "id": "5bd4c5bb-fa22-4b62-ad67-d3c61ce77046",
   "metadata": {},
   "source": [
    "## Author\n",
    "Madhumidha N K"
   ]
  },
  {
   "cell_type": "code",
   "execution_count": null,
   "id": "934a303e-a243-43b9-a416-c4c8ba0136e4",
   "metadata": {},
   "outputs": [],
   "source": []
  }
 ],
 "metadata": {
  "kernelspec": {
   "display_name": "Python 3 (ipykernel)",
   "language": "python",
   "name": "python3"
  },
  "language_info": {
   "codemirror_mode": {
    "name": "ipython",
    "version": 3
   },
   "file_extension": ".py",
   "mimetype": "text/x-python",
   "name": "python",
   "nbconvert_exporter": "python",
   "pygments_lexer": "ipython3",
   "version": "3.12.8"
  }
 },
 "nbformat": 4,
 "nbformat_minor": 5
}
